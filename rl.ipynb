{
 "cells": [
  {
   "cell_type": "code",
   "execution_count": 5,
   "metadata": {},
   "outputs": [],
   "source": [
    "import numpy as np\n",
    "import pandas as pd\n",
    "from tqdm import tqdm"
   ]
  },
  {
   "cell_type": "code",
   "execution_count": 6,
   "metadata": {},
   "outputs": [],
   "source": [
    "no_rl = pd.read_csv('rl_results/no_rl/results.csv')"
   ]
  },
  {
   "cell_type": "code",
   "execution_count": 40,
   "metadata": {},
   "outputs": [],
   "source": [
    "import pickle\n",
    "with open('dataset_new.pkl', 'rb') as f:\n",
    "    dataset = pickle.load(f)\n",
    "dataset = dataset[:5000]"
   ]
  },
  {
   "cell_type": "code",
   "execution_count": 7,
   "metadata": {},
   "outputs": [
    {
     "name": "stdout",
     "output_type": "stream",
     "text": [
      "USING MPS\n",
      "USING MPS\n"
     ]
    }
   ],
   "source": [
    "from features import *\n",
    "arms = {\n",
    "    'color': color_features,\n",
    "    'color_pos': color_pos_features,\n",
    "    'mean_pool': mean_pool,\n",
    "    'filters': filters_33, \n",
    "    'deep': deep_contrastive,\n",
    "}"
   ]
  },
  {
   "cell_type": "code",
   "execution_count": null,
   "metadata": {},
   "outputs": [
    {
     "name": "stderr",
     "output_type": "stream",
     "text": [
      "100%|██████████| 2000/2000 [00:41<00:00, 48.18it/s]\n"
     ]
    },
    {
     "name": "stdout",
     "output_type": "stream",
     "text": [
      "0.7115522361452927\n"
     ]
    }
   ],
   "source": [
    "# Random choice\n",
    "def random_choice(seed=0):\n",
    "    np.random.seed(seed)\n",
    "    no_rl_shuffled = no_rl.sample(frac=1, random_state=seed).reset_index()\n",
    "\n",
    "    rewards = []\n",
    "    for t in range(1000):\n",
    "        row = no_rl_shuffled.iloc[t]\n",
    "\n",
    "        arm_name = np.random.choice(list(arms.keys()))\n",
    "        rewards.append(row[arm_name + '_acc'])\n",
    "    return rewards\n",
    "\n",
    "random_choice_results = []\n",
    "for i in tqdm(range(2000)):\n",
    "    random_choice_results.append(random_choice(i))\n",
    "random_choice_results = np.array(random_choice_results)\n",
    "\n",
    "print(random_choice_results.mean())  # 0.722528479320239\n",
    "np.save('rl_results/random_choice.npy', random_choice_results)"
   ]
  },
  {
   "cell_type": "code",
   "execution_count": 15,
   "metadata": {},
   "outputs": [
    {
     "name": "stderr",
     "output_type": "stream",
     "text": [
      "100%|██████████| 2000/2000 [02:53<00:00, 11.53it/s]"
     ]
    },
    {
     "name": "stdout",
     "output_type": "stream",
     "text": [
      "0.7805464472814061\n"
     ]
    },
    {
     "name": "stderr",
     "output_type": "stream",
     "text": [
      "\n"
     ]
    }
   ],
   "source": [
    "# Best choice\n",
    "always_best = []\n",
    "for i in tqdm(range(2000)):\n",
    "    rewards = []\n",
    "    np.random.seed(i)\n",
    "    no_rl_shuffled = no_rl.sample(frac=1, random_state=i).reset_index()\n",
    "    for t in range(1000):\n",
    "        rewards.append(max(no_rl_shuffled.iloc[t][[arm + '_acc' for arm in arms]]))\n",
    "    always_best.append(rewards)\n",
    "always_best = np.array(always_best)\n",
    "print(always_best.mean())\n",
    "np.save('rl_results/always_best.npy', always_best)"
   ]
  },
  {
   "cell_type": "code",
   "execution_count": 16,
   "metadata": {},
   "outputs": [
    {
     "name": "stderr",
     "output_type": "stream",
     "text": [
      "100%|██████████| 2000/2000 [00:30<00:00, 65.14it/s]"
     ]
    },
    {
     "name": "stdout",
     "output_type": "stream",
     "text": [
      "0.694774764160312\n"
     ]
    },
    {
     "name": "stderr",
     "output_type": "stream",
     "text": [
      "\n"
     ]
    }
   ],
   "source": [
    "# Always color\n",
    "always_color = []\n",
    "for i in tqdm(range(2000)):\n",
    "    rewards = []\n",
    "    np.random.seed(i)\n",
    "    no_rl_shuffled = no_rl.sample(frac=1, random_state=i).reset_index()\n",
    "    for t in range(1000):\n",
    "        rewards.append(no_rl_shuffled.iloc[t].color_acc)\n",
    "    always_color.append(rewards)\n",
    "\n",
    "always_color = np.array(always_color)\n",
    "print(always_color.mean())  # 0.694774764160312\n",
    "np.save('rl_results/always_color.npy', always_color)"
   ]
  },
  {
   "cell_type": "code",
   "execution_count": 12,
   "metadata": {},
   "outputs": [
    {
     "name": "stderr",
     "output_type": "stream",
     "text": [
      "100%|██████████| 2000/2000 [00:30<00:00, 64.79it/s]\n"
     ]
    },
    {
     "name": "stdout",
     "output_type": "stream",
     "text": [
      "0.7261494640049369\n"
     ]
    }
   ],
   "source": [
    "# Always deep\n",
    "always_deep = []\n",
    "for i in tqdm(range(2000)):\n",
    "    rewards = []\n",
    "    np.random.seed(i)\n",
    "    no_rl_shuffled = no_rl.sample(frac=1, random_state=i).reset_index()\n",
    "    for t in range(1000):\n",
    "        rewards.append(no_rl_shuffled.iloc[t].deep_acc)\n",
    "    always_deep.append(rewards)\n",
    "\n",
    "always_deep = np.array(always_deep)\n",
    "print(always_deep.mean())  # 0.7261494640049369\n",
    "np.save('rl_results/always_deep.npy', always_deep)"
   ]
  },
  {
   "cell_type": "code",
   "execution_count": 8,
   "metadata": {},
   "outputs": [
    {
     "data": {
      "text/plain": [
       "(color_acc        0.694798\n",
       " color_pos_acc    0.721632\n",
       " mean_pool_acc    0.725385\n",
       " filters_acc      0.689901\n",
       " deep_acc         0.726060\n",
       " dtype: float64,\n",
       " color_acc        0.089748\n",
       " color_pos_acc    0.093961\n",
       " mean_pool_acc    0.094908\n",
       " filters_acc      0.089512\n",
       " deep_acc         0.089490\n",
       " dtype: float64)"
      ]
     },
     "execution_count": 8,
     "metadata": {},
     "output_type": "execute_result"
    }
   ],
   "source": [
    "# One choice\n",
    "(\n",
    "    no_rl[['color_acc', 'color_pos_acc', 'mean_pool_acc', 'filters_acc', 'deep_acc']].mean(),\n",
    "    no_rl[['color_acc', 'color_pos_acc', 'mean_pool_acc', 'filters_acc', 'deep_acc']].std()\n",
    ")"
   ]
  },
  {
   "cell_type": "code",
   "execution_count": null,
   "metadata": {},
   "outputs": [],
   "source": [
    "# e-greedy\n",
    "def e_greedy(eps=0.1, seed=0, optimistic_init=False):\n",
    "    np.random.seed(seed)\n",
    "    no_rl_shuffled = no_rl.sample(frac=1, random_state=seed).reset_index()\n",
    "    \n",
    "    counts = {arm: 0.0 for arm in arms}\n",
    "    emp_mean = {arm: 1.0 if optimistic_init else 0.0 for arm in arms}\n",
    "\n",
    "    rewards = []\n",
    "    for t in range(1000):\n",
    "        row = no_rl_shuffled.iloc[t]\n",
    "\n",
    "        # if eps == 0:\n",
    "        pulled_arm_name = None\n",
    "        for arm in arms:\n",
    "            if counts[arm] == 0:\n",
    "                pulled_arm_name = arm\n",
    "                break\n",
    "        if pulled_arm_name is None:\n",
    "            greedy_arm = np.array(list(emp_mean.values())).argmax()\n",
    "            if np.random.rand() < eps:\n",
    "                pulled_arm = np.random.choice([i for i in range(len(arms)) if i != greedy_arm])\n",
    "            else:\n",
    "                pulled_arm = greedy_arm\n",
    "            pulled_arm_name = list(arms.keys())[pulled_arm]\n",
    "\n",
    "        # Observe reward.\n",
    "        reward = row[pulled_arm_name + '_acc']\n",
    "        \n",
    "        # Update counts.\n",
    "        counts[pulled_arm_name] += 1\n",
    "        # if eps != 0 or t < 5:\n",
    "        emp_mean[pulled_arm_name] = (\n",
    "            emp_mean[pulled_arm_name] + (1 / counts[pulled_arm_name]) * (reward - emp_mean[pulled_arm_name])\n",
    "        )\n",
    "\n",
    "        rewards.append(reward)\n",
    "    return rewards\n",
    "\n",
    "# e_greedy_results = []\n",
    "# for i in tqdm(range(2000)):\n",
    "#     e_greedy_results.append(e_greedy(eps=0, seed=i))\n",
    "# e_greedy_results = np.array(e_greedy_results)\n",
    "# print(e_greedy_results.mean())  # 0.694774764160312\n",
    "# np.save('./rl_results/greedy.npy', e_greedy_results)\n",
    "\n",
    "# e_greedy_results = []\n",
    "# for i in tqdm(range(2000)):\n",
    "#     e_greedy_results.append(e_greedy(eps=0.1, seed=i))\n",
    "# e_greedy_results = np.array(e_greedy_results)\n",
    "# print(e_greedy_results.mean())  # 0.7218202515089509\n",
    "# np.save('./rl_results/e_greedy_01.npy', e_greedy_results)\n",
    "\n",
    "# e_greedy_results = []\n",
    "# for i in tqdm(range(2000)):\n",
    "#     e_greedy_results.append(e_greedy(eps=0.2, seed=i))\n",
    "# e_greedy_results = np.array(e_greedy_results)\n",
    "# print(e_greedy_results.mean())  # 0.7208844949236448\n",
    "# np.save('./rl_results/e_greedy_02.npy', e_greedy_results)\n",
    "\n",
    "# e_greedy_results = []\n",
    "# for i in tqdm(range(2000)):\n",
    "#     e_greedy_results.append(e_greedy(eps=0.1, seed=i, optimistic_init=True))\n",
    "# e_greedy_results = np.array(e_greedy_results)\n",
    "# print(e_greedy_results.mean())  # 0.722528479320239\n",
    "# np.save('./rl_results/e_greedy_01_opt.npy', e_greedy_results)\n",
    "\n",
    "e_greedy_results = []\n",
    "for i in tqdm(range(2000)):\n",
    "    e_greedy_results.append(e_greedy(eps=0.0, seed=i, optimistic_init=True))\n",
    "e_greedy_results = np.array(e_greedy_results)\n",
    "print(e_greedy_results.mean())  # 0.7212095437359041\n",
    "np.save('./rl_results/greedy_opt.npy', e_greedy_results)"
   ]
  },
  {
   "cell_type": "code",
   "execution_count": 18,
   "metadata": {},
   "outputs": [
    {
     "name": "stderr",
     "output_type": "stream",
     "text": [
      "100%|██████████| 2000/2000 [00:44<00:00, 44.86it/s]"
     ]
    },
    {
     "name": "stdout",
     "output_type": "stream",
     "text": [
      "0.7149872201713673\n"
     ]
    },
    {
     "name": "stderr",
     "output_type": "stream",
     "text": [
      "\n"
     ]
    }
   ],
   "source": [
    "# UCB\n",
    "def ucb(seed=0, optimistic_init=False, c=2):\n",
    "    np.random.seed(seed)\n",
    "    no_rl_shuffled = no_rl.sample(frac=1, random_state=seed).reset_index()\n",
    "    \n",
    "    counts = {arm: 0.0 for arm in arms}\n",
    "    emp_mean = {arm: 1.0 if optimistic_init else 0.0 for arm in arms}\n",
    "\n",
    "    rewards = []\n",
    "    for t in range(1000):\n",
    "        row = no_rl_shuffled.iloc[t]\n",
    "\n",
    "        ucb_values = []\n",
    "        pulled_arm_name = None\n",
    "        for arm in arms:\n",
    "            if counts[arm] == 0:\n",
    "                pulled_arm_name = arm\n",
    "                break\n",
    "            bound_bonus = np.sqrt((c * np.log(t+1)) / counts[arm])\n",
    "            ucb_values.append(emp_mean[arm] + bound_bonus)\n",
    "        if pulled_arm_name is None:\n",
    "            pulled_arm = np.array(ucb_values).argmax()\n",
    "            pulled_arm_name = list(arms.keys())[pulled_arm]\n",
    "\n",
    "        # Observe reward.\n",
    "        reward = row[pulled_arm_name + '_acc']\n",
    "        \n",
    "        # Update counts.\n",
    "        counts[pulled_arm_name] += 1\n",
    "        emp_mean[pulled_arm_name] = (\n",
    "            ((counts[pulled_arm_name] - 1) / counts[pulled_arm_name]) * emp_mean[pulled_arm_name]\n",
    "            + reward / counts[pulled_arm_name]\n",
    "        )\n",
    "\n",
    "        rewards.append(reward)\n",
    "    return rewards\n",
    "\n",
    "# ucb_results = []\n",
    "# for i in tqdm(range(2000)):\n",
    "#     ucb_results.append(ucb(i))\n",
    "# ucb_results = np.array(ucb_results)\n",
    "# print(ucb_results.mean())  # 0.7133616506682934\n",
    "# np.save('./rl_results/ucb.npy', ucb_results)\n",
    "\n",
    "# ucb_results = []\n",
    "# for i in tqdm(range(2000)):\n",
    "#     ucb_results.append(ucb(i, optimistic_init=True))\n",
    "# ucb_results = np.array(ucb_results)\n",
    "# print(ucb_results.mean())  # 0.7133616506682938\n",
    "# np.save('./rl_results/ucb_optimistic.npy', ucb_results)\n",
    "\n",
    "ucb_results = []\n",
    "for i in tqdm(range(2000)):\n",
    "    ucb_results.append(ucb(i, c=0.5))\n",
    "ucb_results = np.array(ucb_results)\n",
    "print(ucb_results.mean())  # 0.7133616506682934\n",
    "np.save('./rl_results/ucb_smaller_bound.npy', ucb_results)"
   ]
  },
  {
   "cell_type": "code",
   "execution_count": 11,
   "metadata": {},
   "outputs": [],
   "source": [
    "# # PCA embeddings\n",
    "# from sklearn.decomposition import PCA\n",
    "# embeddings = []\n",
    "# for i in tqdm(range(5000)):\n",
    "#     embeddings.append(np.load(f'./embeddings/embedding_{i}.npy'))\n",
    "# embeddings = np.stack(embeddings, axis=0)\n",
    "# pca = PCA(n_components=64)\n",
    "# print('Before', embeddings.shape)\n",
    "# embeddings = pca.fit_transform(embeddings)\n",
    "# print('After', embeddings.shape)\n",
    "# np.save('./embeddings/pca_embeddings.npy', embeddings)"
   ]
  },
  {
   "cell_type": "code",
   "execution_count": 39,
   "metadata": {},
   "outputs": [
    {
     "name": "stderr",
     "output_type": "stream",
     "text": [
      "/var/folders/_1/1z3lp9c93sb3y2z_dd9fmt700000gn/T/ipykernel_25475/2560202955.py:5: RuntimeWarning: overflow encountered in exp\n",
      "  pca_embeddings = 1 / (1 + np.exp(pca_embeddings))\n"
     ]
    }
   ],
   "source": [
    "from tqdm import tqdm\n",
    "from features import *\n",
    "\n",
    "pca_embeddings = np.load('./embeddings/pca_embeddings.npy')\n",
    "pca_embeddings = 1 / (1 + np.exp(pca_embeddings))\n",
    "def linucb(seed=0):\n",
    "    np.random.seed(seed)\n",
    "    no_rl_shuffled = no_rl.sample(frac=1, random_state=seed).reset_index()\n",
    "    \n",
    "    A_arms = {arm: np.identity(64) for arm in arms}\n",
    "    b_arms = {arm: np.zeros(64) for arm in arms}\n",
    "\n",
    "    alpha = 0.1\n",
    "    rewards = []\n",
    "    for t in range(1000):\n",
    "        row = no_rl_shuffled.iloc[t]\n",
    "\n",
    "        img_feature = pca_embeddings[row.img_index]\n",
    "        probs = []\n",
    "        for arm in arms:\n",
    "            inv_A = np.linalg.inv(A_arms[arm])\n",
    "            theta = inv_A @ b_arms[arm]\n",
    "            p = theta.T @ img_feature + alpha * np.sqrt(img_feature.T @ inv_A @ img_feature)\n",
    "            probs.append(p)\n",
    "        pulled_arm = np.array(probs).argmax()\n",
    "        pulled_arm_name = list(arms.keys())[pulled_arm]\n",
    "\n",
    "        # Observe reward.\n",
    "        reward = row[pulled_arm_name + '_acc']\n",
    "        \n",
    "        # Update weights.\n",
    "        A_arms[pulled_arm_name] = A_arms[pulled_arm_name] + np.outer(img_feature, img_feature)\n",
    "        b_arms[pulled_arm_name] = b_arms[pulled_arm_name] + reward * img_feature\n",
    "\n",
    "        rewards.append(reward)\n",
    "    return rewards\n",
    "\n",
    "linucb_results = []\n",
    "for i in tqdm(range(2000)):\n",
    "    linucb_results.append(linucb(i))\n",
    "linucb_results = np.array(linucb_results)\n",
    "print(linucb_results.mean())\n",
    "np.save('./rl_results/linucb.npy', linucb_results)"
   ]
  }
 ],
 "metadata": {
  "kernelspec": {
   "display_name": "cs131_final",
   "language": "python",
   "name": "python3"
  },
  "language_info": {
   "codemirror_mode": {
    "name": "ipython",
    "version": 3
   },
   "file_extension": ".py",
   "mimetype": "text/x-python",
   "name": "python",
   "nbconvert_exporter": "python",
   "pygments_lexer": "ipython3",
   "version": "3.11.8"
  }
 },
 "nbformat": 4,
 "nbformat_minor": 2
}
